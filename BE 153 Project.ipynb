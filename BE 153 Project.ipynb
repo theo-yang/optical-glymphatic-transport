{
 "cells": [
  {
   "cell_type": "markdown",
   "metadata": {},
   "source": [
    "# A Qualitative Transport Model for the Optic Glymphatic System#\n",
    "\n",
    "Theo Yang \\\n",
    "BE 153, sp2020"
   ]
  },
  {
   "cell_type": "code",
   "execution_count": 1,
   "metadata": {},
   "outputs": [],
   "source": [
    "from IPython.display import Video, display, HTML"
   ]
  },
  {
   "cell_type": "markdown",
   "metadata": {},
   "source": [
    "### The Brain Glymphatic System ###\n",
    "The glymphatic system is a waste clearance pathway found in the brain which transports metabolites from neurons to lymph vessels. Disruption of this pathway is linked to neurodegenerative diseases like Alzheimer's."
   ]
  },
  {
   "cell_type": "code",
   "execution_count": 2,
   "metadata": {},
   "outputs": [
    {
     "data": {
      "text/html": [
       "<video src=\"brain_glymphatic.mp4\" controls  width=\"1000\"  height=\"500\">\n",
       "      Your browser does not support the <code>video</code> element.\n",
       "    </video>"
      ],
      "text/plain": [
       "<IPython.core.display.Video object>"
      ]
     },
     "execution_count": 2,
     "metadata": {},
     "output_type": "execute_result"
    }
   ],
   "source": [
    "Video('brain_glymphatic.mp4',width=1000, height=500)"
   ]
  },
  {
   "cell_type": "markdown",
   "metadata": {},
   "source": [
    "### The Optic Glymphatic System ###\n",
    "A 2020 paper by Wang et al. in *Science Translational Medicine* elucidates a new pathway for clearance of metabolites from retinal cells using a fluorescent tracer for beta-amyloid, $A\\beta$.\n",
    "\n",
    "<table><tr><td><img src='experiment.JPG' width=\"500\" height=\"600\"></td><td><img src='optic_nerve.PNG'></td></tr></table>"
   ]
  },
  {
   "cell_type": "markdown",
   "metadata": {},
   "source": [
    "### Primary Question: Why do some 30-40% of Glaucoma patients have normal eye pressure? ###\n",
    "\n",
    "New evidence of an glymphatic clearance path at the back of the retina along retinal ganglion cells, gives us a clue to this. The researchers used tracers to track the difference in intracellular (like A$\\beta$) and extracellular fluid transport.\n",
    "They found that breakdown of the lamina cibrosa allowed greater passage of intraocular fluid into an extracellular pathway. \n",
    "Let's see what the lymphatic clearance pathway identified by the researchers:"
   ]
  },
  {
   "cell_type": "code",
   "execution_count": 13,
   "metadata": {
    "scrolled": false
   },
   "outputs": [
    {
     "data": {
      "text/html": [
       "<video src=\"lymph_clear.MOV\" controls  width=\"1000\"  height=\"500\">\n",
       "      Your browser does not support the <code>video</code> element.\n",
       "    </video>"
      ],
      "text/plain": [
       "<IPython.core.display.Video object>"
      ]
     },
     "execution_count": 13,
     "metadata": {},
     "output_type": "execute_result"
    }
   ],
   "source": [
    "Video('lymph_clear.MOV',width=1000, height=500)"
   ]
  },
  {
   "cell_type": "markdown",
   "metadata": {},
   "source": [
    "I came up with a simple fluid model to identify two pathways for comprimised solute clearance:\n",
    "\n",
    "<img src='models.jpg'>\n",
    "\n",
    "1. A **pressure**-driven buildup (60-70 % of patients)\n",
    "2. A **concentration gradient**-driven buildup (30-40% of patients)\n",
    "    \n",
    "**Assumptions**\n",
    "- Laminar, fully developed, viscous flow (Poiseulle Flow)\n",
    "- 2D problem in z (axial), r (radial)\n",
    "- Steady State\n",
    "- Negligible Axial diffusion\n",
    "- constant density, diffusivity, viscosity\n",
    "<br>\n",
    "\n",
    "**Parameters**\n",
    "- $L \\equiv$ Length of axon\n",
    "- $R \\equiv$ Radius of axon\n",
    "- $D_{AB} \\equiv$ Diffusivity of A$\\beta$\n",
    "- $\\mu \\equiv$ Viscosity of A$\\beta$\n",
    "- $k \\equiv$ axon boundary mass transfer coefficient\n",
    "- $\\gamma \\equiv$ Lamina Cibrosa Permeability $\\in [0,1]$\n",
    "<br>\n",
    "\n",
    "**Boundary Conditions for $C_A(r,z)$**\n",
    "1. $\\frac{\\partial C_A(0,z)}{\\partial r} = 0$ (Symmetry)\n",
    "2. $C_A(r,0) = C_0$ (Incoming concentration)\n",
    "3. $D_{AB}\\frac{\\partial C_A(R,z)}{\\partial r} = - k (1-\\gamma) C_A$ (Diffusion = Convective Flux at axon boundary)\n",
    "<br>\n",
    "\n",
    "**Solution Procedure** \n",
    "\n",
    "We begin with the mass balance equation is \n",
    "\n",
    "\n",
    "$$\n",
    "\\underbrace{\\frac{D C_A}{Dt}}_{\\text{material derivative of }A \\beta} = \\underbrace{D_{AB} \\nabla^2 C_A}_{\\text{Fickian Diffusion}} + \\underbrace{{r_A}}_{\\text{reaction}} \n",
    "$$\n",
    "\n",
    "<br>    \n",
    "In cylindrical coordinates, we set this to steady state and apply 2D assumption to find:\n",
    "<br><br>  \n",
    "$$\n",
    "v_z \\frac{\\partial C_A}{\\partial z} = D_{AB} \\Big[\\frac{1}{r} \\frac{\\partial}{\\partial r}\\big(r \\frac{\\partial C_A}{\\partial r}\\big) \\Big]\n",
    "$$\n",
    "To find $v_z$ we start with the Navier Stokes equation:\n",
    "<br><br>  \n",
    "$$\n",
    "\\underbrace{\\rho\\frac{D\\mathbf{v}}{Dt}}_{\\text{momentum}} = \\underbrace{-\\nabla p}_{\\text{pressure}} + \\underbrace{\\mu \\nabla^2 \\mathbf{v}}_{\\text{Newtonian diffusion}} + \\underbrace{pg}_{\\text{gravity}}\n",
    "$$\n",
    "<br>    \n",
    "In cylindrical coordinates and ignoring body forces:\n",
    "<br><br>  \n",
    "$$\n",
    "0 = - \\frac{P_0 - P_L}{L} + \\mu \\frac{1}{r} \\frac{\\partial}{\\partial r} \\big(r \\frac{\\partial v_z}{\\partial r}\\big)\n",
    "$$\n",
    "<br>\n",
    "This can be solved to find the axial velocity profile\n",
    "<br><br>  \n",
    "$$\n",
    "v_z(r) = \\frac{(P_0 - P_L)R^2}{4 \\mu L}\\Big[ 1- \\big(\\frac{r}{R}\\big)^2 \\Big] \n",
    "$$\n",
    "<br>    \n",
    "Substituting into our mass balance equation:\n",
    "<br><br>  \n",
    "$$\n",
    "\\frac{P_0 - P_L}{4 \\mu L}\\Big[ 1- \\big(\\frac{r}{R}\\big)^2 \\Big]\\frac{\\partial C_A}{\\partial z} = D_{AB} \\Big[\\frac{1}{r} \\frac{\\partial}{\\partial r}\\big(r \\frac{\\partial C_A}{\\partial r}\\big) \\Big]\n",
    "$$\n",
    "<br> \n",
    "We can simplify this by non-dimensionalization by defining \n",
    "$\\zeta \\equiv \\frac{z}{L},\\rho \\equiv \\frac{r}{R}, \\omega_A \\equiv \\frac{C_A}{C_{A0}}$. Our PDE becomes:\n",
    "<br><br>  \n",
    "$$\n",
    "\\text{Pe}\\frac{\\partial \\omega_A}{\\partial \\zeta} = \\frac{1}{(1-\\rho^2)\\rho}\\Big[\\frac{\\partial \\omega_A}{\\partial \\rho} + \\rho\\frac{\\partial^2 \\omega_A}{\\partial \\rho^2}\\Big]\n",
    "$$\n",
    "<br>\n",
    "With Boundary conditions:\n",
    "1. $\\frac{\\partial \\omega_A(0,\\zeta)}{\\partial \\rho} = 0$\n",
    "2. $\\omega_A(\\rho,0) = 1$\n",
    "3. $\\frac{\\partial \\omega_A(1,\\zeta)}{\\partial \\rho} = -\\text{Sh} \\ \\omega_A(1,\\zeta)$\n",
    "\n",
    "where the PDE is completely parametrized by two non-dimensional numbers:\n",
    "<font size=\"5\">\n",
    "\n",
    "Pe $\\equiv \\frac{(P_0 - P_L)R^2}{4 \\mu D_{AB} L^2} = \\frac{\\textbf{Axial Advection}}{\\textbf{Radial Diffusion}}$ <br><br>\n",
    "\n",
    "Sh $\\equiv \\frac{k(1-\\gamma) R}{ D_{AB}} = \\frac{\\textbf{Radial Convection}}{\\textbf{Radial Diffusion}}$<br><br>\n",
    "\n",
    "<font size=\"3\">\n",
    "The elliptical PDE can be solved numerically using MATLAB's pdepe(). See <a href=\"https://github.com/theo-yang\">my github </a> for the code. <br>\n",
    "\n",
    "Now we can consider the two mechanisms for $\\beta$ amyloid build up."
   ]
  },
  {
   "cell_type": "markdown",
   "metadata": {},
   "source": [
    "## (1) Increasing the Translaminar Pressure Difference\n",
    "\n",
    "$\\underbrace{\\text{TPD}}_{\\text{Translaminar Pressure Difference}} \\equiv \\\n",
    "\\underbrace{\\text{IOP}}_{\\text{Intraocular Pressure}} - \\underbrace{\\text{ICP}}_{\\text{Intracranial Pressure}}$ \n",
    "\n",
    "$\\implies \\text{Pe} = \\frac{(\\text{TPD})R^2}{4 \\mu D_{AB} L^2} = \\frac{\\textbf{Axial Advection}}{\\textbf{Radial Diffusion}}$\n",
    "\n",
    "Thus, as we **increase** the pressure difference by increasing IOP or lowering ICP, axial advection becomes more important.\n",
    "\n",
    "Physically this means that, the solutes are moving too fast along the axon to diffuse radially out, causing agreggation over time. This may be an explanation for how **increased IOP** causes RGC death and Glaucoma.\n",
    "\n",
    "Let's look at how simulations of this model compare with the data <br>\n",
    "### Observation  &emsp;&emsp;&emsp;&emsp;&emsp;&emsp;&emsp;&emsp;&emsp;&emsp;&emsp;&emsp;&emsp;&emsp;&emsp;&emsp;Model                                                  \n",
    "<table><tr><td><img src='tpd_data.png'></td><td><img src='tpmodel.jpg'></td></tr></table>"
   ]
  },
  {
   "cell_type": "markdown",
   "metadata": {},
   "source": [
    "## (2) Increasing Lamina Cibrosa Permeability\n",
    "In this case, there needs not be an increase in TPD for lower beta-amyloid clearance to occur. Instead, we are considering **concentration-driven** decrease in radial diffusion at the axon membrane.\n",
    "\n",
    "### Mechanism &emsp;&emsp;&emsp;&emsp;&emsp;&emsp;&emsp;&emsp;Observation&emsp;&emsp;&emsp;&emsp;&emsp;&emsp;&emsp;&emsp;&emsp;&emsp;Model\n",
    "<table><tr><td><img src='mech.png'></td><td><img src='dba_data.png'></td><td><img src='sh_model.jpg'></td></tr></table>"
   ]
  },
  {
   "cell_type": "markdown",
   "metadata": {},
   "source": [
    "## Time Dependent Flow\n",
    "\n",
    "We next want to see if we can model how long it takes for this system to come up to equilibrium, and what physical factors affect this. This can be done by discretizing time and using method of lines.\n",
    "\n",
    "Let's look back at our Navier Stokes equation, now keeping the t dependence.\n",
    "\n",
    "$$\n",
    "\\rho_d \\frac{\\partial v_z}{\\partial t} = \\langle \\nabla p \\rangle f(t) + \\mu \\frac{1}{r} \\Big[\\frac{\\partial v_z}{\\partial t} + \\frac{\\partial^2 v_z}{\\partial t^2}\\Big] \n",
    "$$\n",
    "\n",
    "where $\\rho_d$ is density of bulk solution (intraocular fluid) and $\\langle \\nabla p(t) \\rangle$ is the average pressure from fully developed, steady state Poiseuille Flow. We can non-dimensionalize with $ V \\equiv \\frac{v_z}{\\langle v_p \\rangle}$ where ${\\langle v_p \\rangle}$ is average velocity at steady state, $\\tau \\equiv \\frac{\\langle v_p \\rangle}{R} t$, and $\\rho \\equiv \\frac{r}{R}$.\n",
    "\n",
    "$$\n",
    "\\frac{\\partial V}{\\partial \\tau} = \\frac{\\langle \\nabla p \\rangle R}{\\rho_d \\langle v_p \\rangle}f(t) + \\frac{\\mu}{R \\rho_d \\langle v_p \\rangle} \\Big[\\frac{\\partial V}{\\partial \\tau} + \\frac{\\partial^2 V}{\\partial \\tau^2}\\Big] \n",
    "$$\n",
    "\n",
    "The two coefficients that come out are **Eu** and **Re**.\n",
    "\n",
    "$$\n",
    "\\textbf{Eu} \\equiv \\frac{\\langle \\nabla p \\rangle R}{\\rho_d \\langle v_p \\rangle} = \\frac{\\textbf{Pressure Forces}}{\\textbf{Inertial Forces}}\n",
    "$$\n",
    "\n",
    "$$\n",
    "\\textbf{Re} \\equiv \\frac{R \\rho_d \\langle v_p \\rangle}{\\mu} = \\frac{\\textbf{Inertial Forces}}{\\textbf{Viscous Forces}}\n",
    "$$\n",
    "\n",
    "This can be solved analytically as per [https://arxiv.org/pdf/1503.05149.pdf] such that\n",
    "\n",
    "$$\n",
    "V(\\rho,\\tau) = \\text{Eu} \\int^\\tau_0 \\int^1_0 f(t) G(r,s,\\tau - \\tau') ds d\\tau'\n",
    "$$\n",
    "\n",
    "where $G(r,s,t)$ is Green's Function.\n",
    "\n",
    "Next Looking at our time dependent mass conservation equation, we have:\n",
    "\n",
    "$$\n",
    "\\frac{\\partial C_A}{\\partial t} + \\frac{\\partial C_A}{\\partial z} v_z(r,t) = D_{AB} \\big(\\frac{1}{r} \\frac{\\partial}{\\partial r}\\big(r \\frac{\\partial C_A}{\\partial r}\\big)\\big) \n",
    "$$\n",
    "\n",
    "Non-dimensionalizing as before and substituting in our expression for V, we find that a similar equation as with steady state:\n",
    "\n",
    "$$\n",
    "\\frac{L}{R}\\text{Pe}\\frac{\\partial w_A}{\\partial \\tau} + \\text{Pe}\\frac{\\partial w_A}{\\partial \\zeta} V(\\rho,\\tau) = \\big(\\frac{1}{\\rho} \\frac{\\partial}{\\partial \\rho}\\big(\\rho \\frac{\\partial w_A}{\\partial \\rho}\\big)\\big) \n",
    "$$\n",
    "\n",
    "We can solve this by method of lines, described <a href=\"http://people.math.gatech.edu/~meyer/MOL-notes/Chap1.pdf\">here </a> where we discretize time and are left with a system of PDEs that can be solved using MATLAB's pdepe(). See <a href=\"https://github.com/theo-yang\">my github </a> for the code.\n",
    "\n",
    "\n",
    "Let's compare our results with experimental:\n",
    "\n",
    "\n",
    "<img src='temporal_experiment.jpg' height=200, width = 5000>"
   ]
  },
  {
   "cell_type": "markdown",
   "metadata": {},
   "source": [
    "## Panel B: No stimulation, constant pressure"
   ]
  },
  {
   "cell_type": "code",
   "execution_count": 31,
   "metadata": {
    "scrolled": false
   },
   "outputs": [
    {
     "data": {
      "text/html": [
       "<video width=\"975\" height=\"240\" controls> <source src=\"time.mp4\" width = 50, height = 100></video>"
      ],
      "text/plain": [
       "<IPython.core.display.HTML object>"
      ]
     },
     "execution_count": 31,
     "metadata": {},
     "output_type": "execute_result"
    }
   ],
   "source": [
    "HTML(\"\"\"<video width=\"975\" height=\"240\" controls> <source src=\"time.mp4\" width = 50, height = 100></video>\"\"\")"
   ]
  },
  {
   "cell_type": "markdown",
   "metadata": {},
   "source": [
    "## Panel C: No stimulation, constant pressure"
   ]
  },
  {
   "cell_type": "code",
   "execution_count": 32,
   "metadata": {
    "scrolled": true
   },
   "outputs": [
    {
     "data": {
      "text/html": [
       "<video width=\"975\" height=\"240\" controls> <source src=\"stim.mp4\" width = 50, height = 100></video>"
      ],
      "text/plain": [
       "<IPython.core.display.HTML object>"
      ]
     },
     "execution_count": 32,
     "metadata": {},
     "output_type": "execute_result"
    }
   ],
   "source": [
    "HTML(\"\"\"<video width=\"975\" height=\"240\" controls> <source src=\"stim.mp4\" width = 50, height = 100></video>\"\"\")"
   ]
  },
  {
   "cell_type": "markdown",
   "metadata": {},
   "source": [
    "## Model Comparison\n",
    "\n",
    "we predict that increasing pressure decreases the time necessary to reach steady state.\n",
    "<img src='to_steady_state.jpg' height=200, width = 750>"
   ]
  },
  {
   "cell_type": "markdown",
   "metadata": {},
   "source": [
    "## Future Work\n",
    "\n",
    "**Comparison with Brain Glymphatic System**\n",
    "1. Diffusion vs Convection Debate.\n",
    "2. Coupling with arterial pulsatility and other infradian rhythms.\n",
    "3. Ex vivo to in vivo primate models.\n",
    "4. Kinetics of tau and beta-amyloid aggregation over longer time scale.\n",
    "\n",
    "**Optical Glymphatic system modeling**\n",
    "1. Scaling analysis\n",
    "2. Quantitative measurements through model-driven experimentation.\n",
    "3. Quantitative comparisons with known clearance pathways in the anterior of the eye."
   ]
  },
  {
   "cell_type": "markdown",
   "metadata": {},
   "source": [
    "## Sources\n",
    "1. Wang, X. et al. An ocular glymphatic clearance system removes β-amyloid from the rodent eye. Sci. Transl. Med. 12, eaaw3210 (2020).\n",
    "\n",
    "2. Benveniste, H. et al. The Glymphatic System and Waste Clearance with Brain Aging: A Review. Gerontology 65, 106–119 (2019).\n"
   ]
  }
 ],
 "metadata": {
  "kernelspec": {
   "display_name": "Python 3",
   "language": "python",
   "name": "python3"
  },
  "language_info": {
   "codemirror_mode": {
    "name": "ipython",
    "version": 3
   },
   "file_extension": ".py",
   "mimetype": "text/x-python",
   "name": "python",
   "nbconvert_exporter": "python",
   "pygments_lexer": "ipython3",
   "version": "3.7.4"
  }
 },
 "nbformat": 4,
 "nbformat_minor": 2
}
