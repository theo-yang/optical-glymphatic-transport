{
 "cells": [
  {
   "cell_type": "markdown",
   "metadata": {},
   "source": [
    "# The Optic Glymphatic System: A Transport Analysis#\n",
    "\n",
    "Theo Yang \\\n",
    "BE 153, sp2020"
   ]
  },
  {
   "cell_type": "code",
   "execution_count": 11,
   "metadata": {},
   "outputs": [],
   "source": [
    "from IPython.display import Video, display, HTML\n",
    "import pandas as pd\n",
    "import numpy as np"
   ]
  },
  {
   "cell_type": "markdown",
   "metadata": {},
   "source": [
    "Load Data from: https://stm.sciencemag.org/content/12/536/eaaw3210/tab-figures-data"
   ]
  },
  {
   "cell_type": "code",
   "execution_count": 6,
   "metadata": {},
   "outputs": [],
   "source": [
    "figdata = pd.ExcelFile('data.xlsx')"
   ]
  },
  {
   "cell_type": "markdown",
   "metadata": {},
   "source": [
    "### Primary Question: Why do some 30-40% of Glaucoma patients have normal eye pressure? ###\n",
    "\n",
    "New evidence of an glymphatic clearance path at the back of the retina along retinal ganglion cells, gives us a clue to this. The researchers used tracers to track the difference in intracellular (like A$\\beta$) and extracellular fluid transport.\n",
    "They found that breakdown of the lamina cibrosa allowed greater passage of intraocular fluid into an extracellular pathway. \n",
    "Let's see what the lymphatic clearance pathway identified by the researchers:"
   ]
  },
  {
   "cell_type": "code",
   "execution_count": 13,
   "metadata": {
    "scrolled": false
   },
   "outputs": [
    {
     "data": {
      "text/html": [
       "<video src=\"lymph_clear.MOV\" controls  width=\"1000\"  height=\"500\">\n",
       "      Your browser does not support the <code>video</code> element.\n",
       "    </video>"
      ],
      "text/plain": [
       "<IPython.core.display.Video object>"
      ]
     },
     "execution_count": 13,
     "metadata": {},
     "output_type": "execute_result"
    }
   ],
   "source": [
    "Video('lymph_clear.MOV',width=1000, height=500)"
   ]
  },
  {
   "cell_type": "markdown",
   "metadata": {},
   "source": [
    "I came up with a simple fluid model to identify two pathways for comprimised solute clearance:\n",
    "\n",
    "1. A **pressure**-driven buildup (60-70 % of patients)\n",
    "2. A **concentration gradient**-driven buildup (30-40% of patients)\n",
    "    \n",
    "**Assumptions**\n",
    "- Laminar, viscous flow (Poiseulle Flow)\n",
    "- 2D problem in z (axial), r (radial)\n",
    "- Steady State\n",
    "- Negligible Axial diffusion\n",
    "- constant density, diffusivity, viscosity\n",
    "<br>\n",
    "\n",
    "**Parameters**\n",
    "- $L \\equiv$ Length of axon\n",
    "- $R \\equiv$ Radius of axon\n",
    "- $D_{AB} \\equiv$ Diffusivity of A$\\beta$\n",
    "- $\\mu \\equiv$ Viscosity of A$\\beta$\n",
    "- $k \\equiv$ axon boundary mass transfer coefficient\n",
    "- $\\gamma \\equiv$ Lamina Cibrosa Permeability $\\in [0,1]$\n",
    "<br>\n",
    "\n",
    "**Boundary Conditions for $C_A(r,z)$**\n",
    "1. $\\frac{\\partial C_A(0,z)}{\\partial r} = 0$ (Symmetry)\n",
    "2. $C_A(r,0) = C_0$ (Incoming concentration)\n",
    "3. $D_{AB}\\frac{\\partial C_A(R,z)}{\\partial r} = - k \\gamma (C_A)$ (Diffusion = Convective Flux at axon boundary)\n",
    "<br>\n",
    "\n",
    "**Solution Procedure** \n",
    "\n",
    "We begin with the mass balance equation is \n",
    "\n",
    "\n",
    "$$\n",
    "\\underbrace{\\frac{D C_A}{Dt}}_{\\text{material derivative of }A \\beta} = \\underbrace{D_{AB} \\nabla^2 C_A}_{\\text{Fickian Diffusion}} + \\underbrace{{r_A}}_{\\text{reaction}} \n",
    "$$\n",
    "\n",
    "<br>    \n",
    "In cylindrical coordinates, we set this to steady state and apply 2D assumption to find:\n",
    "<br><br>  \n",
    "$$\n",
    "v_z \\frac{\\partial C_A}{\\partial z} = D_{AB} \\Big[\\frac{1}{r} \\frac{\\partial}{\\partial r}\\big(r \\frac{\\partial C_A}{\\partial r}\\big) \\Big]\n",
    "$$\n",
    "To find $v_z$ we start with the Navier Stokes equation:\n",
    "<br><br>  \n",
    "$$\n",
    "\\underbrace{\\rho\\frac{D\\mathbf{v}}{Dt}}_{\\text{momentum}} = \\underbrace{-\\nabla p}_{\\text{pressure}} + \\underbrace{\\mu \\nabla^2 \\mathbf{v}}_{\\text{Newtonian diffusion}} + \\underbrace{pg}_{\\text{gravity}}\n",
    "$$\n",
    "<br>    \n",
    "In cylindrical coordinates and ignoring body forces:\n",
    "<br><br>  \n",
    "$$\n",
    "0 = - \\frac{P_0 - P_L}{L} + \\mu \\frac{1}{r} \\frac{\\partial}{\\partial r} \\big(r \\frac{\\partial v_z}{\\partial r}\\big)\n",
    "$$\n",
    "<br>\n",
    "This can be solved to find the axial velocity profile\n",
    "<br><br>  \n",
    "$$\n",
    "v_z(r) = \\frac{P_0 - P_L}{4 \\mu L}\\Big[ 1- \\big(\\frac{r}{R}\\big)^2 \\Big] \n",
    "$$\n",
    "<br>    \n",
    "Substituting into our mass balance equation:\n",
    "<br><br>  \n",
    "$$\n",
    "\\frac{P_0 - P_L}{4 \\mu L}\\Big[ 1- \\big(\\frac{r}{R}\\big)^2 \\Big]\\frac{\\partial C_A}{\\partial z} = D_{AB} \\Big[\\frac{1}{r} \\frac{\\partial}{\\partial r}\\big(r \\frac{\\partial C_A}{\\partial r}\\big) \\Big]\n",
    "$$\n",
    "<br> \n",
    "We can simplify this by non-dimensionalization by defining \n",
    "$\\zeta \\equiv \\frac{z}{L},\\rho \\equiv \\frac{r}{R}, \\omega_A \\equiv \\frac{C_A}{C_{A0}}$. Our PDE becomes:\n",
    "<br><br>  \n",
    "$$\n",
    "\\text{Pe}\\frac{\\partial \\omega_A}{\\partial \\zeta} = \\frac{1}{(1-\\rho^2)\\rho}\\Big[\\frac{\\partial \\omega_A}{\\partial \\rho} + \\rho\\frac{\\partial^2 \\omega_A}{\\partial \\rho^2}\\Big]\n",
    "$$\n",
    "<br>\n",
    "With Boundary conditions:\n",
    "1. $\\frac{\\partial \\omega_A(0,\\zeta)}{\\partial \\rho} = 0$\n",
    "2. $\\omega_A(\\rho,0) = 1$\n",
    "3. $\\frac{\\partial \\omega_A(1,\\zeta)}{\\partial \\rho} = -\\text{Sh}$\n",
    "\n",
    "where the PDE is completely parametrized by two non-dimensional numbers:\n",
    "<font size=\"5\">\n",
    "\n",
    "Pe $\\equiv \\frac{(P_0 - P_L)R^2}{4 \\mu D_{AB} L^2} = \\frac{\\textbf{Axial Advection}}{\\textbf{Radial Diffusion}}$ <br><br>\n",
    "\n",
    "Sh $\\equiv \\frac{k \\gamma L}{ D_{AB}} = \\frac{\\textbf{Radial Convection}}{\\textbf{Radial Diffusion}}$<br><br>\n",
    "\n",
    "<font size=\"3\">\n",
    "The elliptical PDE can be solved numerically using MATLAB's pdepe(). See <a href=\"https://github.com/theo-yang\">my github </a> for the code. <br>\n",
    "\n",
    "Now we can consider the two mechanisms for $\\beta$ amyloid build up."
   ]
  },
  {
   "cell_type": "markdown",
   "metadata": {},
   "source": [
    "## (1) Increasing the Translaminar Pressure Difference\n",
    "\n",
    "$\\underbrace{\\text{TPD}}_{\\text{Translaminar Pressure Difference}} \\equiv \\\n",
    "\\underbrace{\\text{IOP}}_{\\text{Intraocular Pressure}} - \\underbrace{\\text{ICP}}_{\\text{Intracranial Pressure}}$ \n",
    "\n",
    "$\\implies \\text{Pe} = \\frac{(\\text{TPD})R^2}{4 \\mu D_{AB} L^2} = \\frac{\\textbf{Axial Advection}}{\\textbf{Radial Diffusion}}$\n",
    "\n",
    "Thus, as we **increase** the pressure difference by increasing IOP or lowering ICP, axial advection becomes more important.\n",
    "\n",
    "Physically this means that, the solutes are moving too fast along the axon to diffuse radially out, causing agreggation over time. This may be an explanation for how **increased IOP** causes RGC death and Glaucoma.\n",
    "\n",
    "Let's look at how simulations of this model compare with the data <br>\n",
    "### Observation  &emsp;&emsp;&emsp;&emsp;&emsp;&emsp;&emsp;&emsp;&emsp;&emsp;&emsp;&emsp;&emsp;&emsp;&emsp;&emsp;Model                                                  \n",
    "<table><tr><td><img src='tpd_data.png'></td><td><img src='tpmodel.jpg'></td></tr></table>"
   ]
  },
  {
   "cell_type": "markdown",
   "metadata": {},
   "source": [
    "## (2) Increasing Lamina Cibrosa Permeability\n",
    "In this case, there needs not be an increase in TPD for lower beta-amyloid clearance to occur. Instead, we are considering **concentration-driven** decrease in radial diffusion at the axon membrane.\n",
    "\n",
    "### Mechanism &emsp;&emsp;&emsp;&emsp;&emsp;&emsp;&emsp;&emsp;Observation&emsp;&emsp;&emsp;&emsp;&emsp;&emsp;&emsp;&emsp;&emsp;&emsp;Model\n",
    "<table><tr><td><img src='mech.png'></td><td><img src='dba_data.png'></td><td><img src='sh_model.jpg'></td></tr></table>"
   ]
  },
  {
   "cell_type": "code",
   "execution_count": null,
   "metadata": {},
   "outputs": [],
   "source": []
  }
 ],
 "metadata": {
  "kernelspec": {
   "display_name": "Python 3",
   "language": "python",
   "name": "python3"
  },
  "language_info": {
   "codemirror_mode": {
    "name": "ipython",
    "version": 3
   },
   "file_extension": ".py",
   "mimetype": "text/x-python",
   "name": "python",
   "nbconvert_exporter": "python",
   "pygments_lexer": "ipython3",
   "version": "3.7.4"
  }
 },
 "nbformat": 4,
 "nbformat_minor": 2
}
