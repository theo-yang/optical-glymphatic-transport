{
 "cells": [
  {
   "cell_type": "markdown",
   "metadata": {},
   "source": [
    "# The Optic Glymphatic System: A Transport Analysis#\n",
    "\n",
    "Theo Yang \\\n",
    "BE 153, sp2020"
   ]
  },
  {
   "cell_type": "markdown",
   "metadata": {},
   "source": [
    "## a convection-difussion model for glaucoma ##\n",
    "<font size=\"3\">\n",
    "[ADD VIDEO FROM ARTICLE] <br>\n",
    "[ADD SINGLE RGC SCHEMATIC]\n",
    "\n",
    "\n",
    "**Assumptions**\n",
    "- Laminar, viscous flow (Poiseulle Flow)\n",
    "- 2D problem in z (axial), r (radial)\n",
    "- Steady State\n",
    "- Negligible Axial diffusion\n",
    "- constant density, diffusivity, viscosity\n",
    "<br>\n",
    "\n",
    "**Solution Procedure** <br>\n",
    "We begin with the mass balance equation is \n",
    "<br><br>\n",
    "<font size=\"5\">\n",
    "$\n",
    "\\underbrace{\\frac{D C_A}{Dt}}_{\\text{material derivative of }A \\beta} = \\underbrace{D_{AB} \\nabla^2 C_A}_{\\text{Fickian Diffusion}} + \\underbrace{{r_A}}_{\\text{reaction}} \n",
    "$\n",
    "<br>\n",
    "<font size=\"3\">\n",
    "and Navier Stokes equation for momentum:\n",
    "<br><br>\n",
    "<font size=\"5\">    \n",
    "$\n",
    "\\underbrace{\\rho\\frac{D\\mathbf{v}}{Dt}}_{\\text{momentum}} = \\underbrace{-\\nabla p}_{\\text{pressure}} + \\underbrace{\\mu \\nabla^2 \\mathbf{v}}_{\\text{Newtonian diffusion}} + \\underbrace{pg}_{\\text{gravity}}\n",
    "$\n"
   ]
  },
  {
   "cell_type": "code",
   "execution_count": null,
   "metadata": {},
   "outputs": [],
   "source": []
  }
 ],
 "metadata": {
  "kernelspec": {
   "display_name": "Python 3",
   "language": "python",
   "name": "python3"
  },
  "language_info": {
   "codemirror_mode": {
    "name": "ipython",
    "version": 3
   },
   "file_extension": ".py",
   "mimetype": "text/x-python",
   "name": "python",
   "nbconvert_exporter": "python",
   "pygments_lexer": "ipython3",
   "version": "3.7.4"
  }
 },
 "nbformat": 4,
 "nbformat_minor": 2
}
